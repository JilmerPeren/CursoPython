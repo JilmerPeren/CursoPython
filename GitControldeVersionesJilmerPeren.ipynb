{
 "cells": [
  {
   "cell_type": "markdown",
   "metadata": {},
   "source": [
    "# Control de Versiones con Git"
   ]
  },
  {
   "cell_type": "markdown",
   "metadata": {},
   "source": [
    "### Objetivo\n",
    "Presentar un resumen de lo aprendido en el video [Lecture 6 - Version control (git)](https://missing.csail.mit.edu/2020/version-control/)"
   ]
  },
  {
   "cell_type": "markdown",
   "metadata": {},
   "source": [
    "## Control de versiones\n",
    "\n",
    "Permite hacer un seguimiento histórico (tracking) de los cambios que se realizan a un archivo, éste puede ser código fuente de un programa (software) o cualquier otro tipo de archivo.\n",
    "\n",
    "También permite el trabajo colaborativo, esto es, que dos o más personas trabajen sobre el archivo fuente u original para luego hacer un \"merge\" de ambos sin perder los cambios que cada persona realizó.\n",
    "\n",
    "Dentro de éste control de versiones es importante lo que conoce como \"snapshot\", que podría decirse, es una imagen en una fecha y hora dada de todo lo que decidimos llevar control de versiones.\n",
    "\n",
    "Por último, un control de versiones debe ofrecer metadata, que es información de los archivos sobre los que se esta llevando el control de versiones, por ejemplo, la fecha y hora de creación, autor, entre otros datos.\n",
    "\n",
    "## Importancia del control de versiones\n",
    "\n",
    "Dar seguimiento a los cambios a lo largo del tiempo, asegurando que no se pierda ninguno de los cambios realizados, además de un buen control para asegurar que, cuando se trabaja en paralelo un archivo, todos los cambios realizados sean contenidos en la nueva versión del mismo, cuando así se decida.\n",
    "\n",
    "Sin importar el tamaño del proyecto, debe implementarse el control de versiones ya que ofrece la ventaja de trabajo en equipo con otras personas sobre el mismo archivo o grupo de archivos, además permite llevar un mejor control de calidad del desarrollo de los diferentes archivos, especialmente is es código fuente de una aplicación o software.\n",
    "\n",
    "Realizar pruebas en un paralelo sin afectar la versión implementada del software.\n",
    "\n",
    "# GIT\n",
    "\n",
    "La [página oficial de GIT](https://git-scm.com/) dice que  Git es un sistema de control de versiones de código abierto y uso libre diseñado para utilizarse con pequeños y grandes proyectos con eficiencia, fácil de aprender, entre otras características.\n",
    "\n",
    "Actualmente Git es un estándar mundial en lo que control de versiones se refiere.\n",
    "\n",
    "## Estructura de Git\n",
    "\n",
    "La unidad principal de almacenamiento en Git es el \"objeto\" que se identifica con el \"Secure Hash Algorithm 1\" (SHA-1, por sus siglas en ingles).\n",
    "\n",
    "Tree es el equivalente a un arbol de archivos, donde cada folder es un \"Tree\" que puede contener a su vez otros folders o archivos dependientes los que se llaman blob's.\n",
    "\n",
    "Blob es un objeto sin tipo y se pueden entender como los archivos contenidos dentro de un Tree, o más bien el contenido de un archivo dentro de un Tree.\n",
    "\n",
    "Snapshot es una fotografía en un momento dado del código o archivos de lo que se lleva control de versiones con Git, una vez se realiza un commit.\n",
    "\n",
    "Commit es la acción de guardar un snapshot del proyecto en la historía de Git. La historia en Git se representa como una serie de commits interrelacionados, cada snapshot referenciado a su antecesor a lo largo de la historia.\n",
    "\n",
    "Se tienen al menos tres áreas donde los archivos pueden estar, primero el repositorio local, es decir, en el equipo del usuario. Luego el repositorio de Git, donde se lleva el control de versiones. Hay un área intermedia, que ocurre conceptualmente, se le llama stage area, estos son aquellos archivos que tienen control de versiones, por lo tanto Git los identifica como archivos modificados, pero estos cambios no han sido respaldados en el repositorio Git, esto ocurre cuando se realiza un commit y se especifican los archivos a respaldar en Git, una vez los cambios realizados se respaldan por medio del commit, dejan de estar en el Stage area para trasladarse al repositorio Git.\n",
    "\n",
    "## Comandos de Git\n",
    "\n",
    "A continuación los comandos y ejemplos realizados."
   ]
  },
  {
   "cell_type": "markdown",
   "metadata": {},
   "source": [
    "### Git init\n",
    "\n",
    "Inicializar Git, es decir, crea un directorio .git en el directorio actual de trabajo, donde se guardaran los subdirectorios y archivos. Si el directorio ya existe lo reinicializa.\n",
    "\n",
    "Primero veamos el directorio actual de trabajo, con el comando pwd, o seleccionamos el directorio de trabajo con cd /path/"
   ]
  },
  {
   "cell_type": "code",
   "execution_count": 11,
   "metadata": {},
   "outputs": [
    {
     "data": {
      "text/plain": [
       "'/home/jilmer/CienciaDatosGalileo/TrimestreI-2020/CienciaDatosPython'"
      ]
     },
     "execution_count": 11,
     "metadata": {},
     "output_type": "execute_result"
    }
   ],
   "source": [
    "pwd"
   ]
  },
  {
   "cell_type": "code",
   "execution_count": 12,
   "metadata": {},
   "outputs": [
    {
     "ename": "SyntaxError",
     "evalue": "invalid syntax (<ipython-input-12-f188d5ac1197>, line 1)",
     "output_type": "error",
     "traceback": [
      "\u001b[0;36m  File \u001b[0;32m\"<ipython-input-12-f188d5ac1197>\"\u001b[0;36m, line \u001b[0;32m1\u001b[0m\n\u001b[0;31m    git init\u001b[0m\n\u001b[0m        ^\u001b[0m\n\u001b[0;31mSyntaxError\u001b[0m\u001b[0;31m:\u001b[0m invalid syntax\n"
     ]
    }
   ],
   "source": [
    "git init"
   ]
  },
  {
   "cell_type": "markdown",
   "metadata": {},
   "source": [
    "Podemos ver le contenido del archivo, como lo crea como .git, es un archivo oculto, por lo que usamos el comando ls -a para que muestre los archivos ocultos"
   ]
  },
  {
   "cell_type": "code",
   "execution_count": 13,
   "metadata": {},
   "outputs": [
    {
     "name": "stdout",
     "output_type": "stream",
     "text": [
      "\u001b[0m\u001b[01;34m.\u001b[0m/   Clase1.pptx       Clase_3.ipynb  \u001b[01;34m.ipynb_checkpoints\u001b[0m/\n",
      "\u001b[01;34m..\u001b[0m/  Clase2_Tools.pdf  \u001b[01;34mgit\u001b[0m/           VersionControl.ipynb\n"
     ]
    }
   ],
   "source": [
    "ls -a"
   ]
  },
  {
   "cell_type": "code",
   "execution_count": 14,
   "metadata": {},
   "outputs": [
    {
     "name": "stdout",
     "output_type": "stream",
     "text": [
      "/home/jilmer/CienciaDatosGalileo/TrimestreI-2020/CienciaDatosPython/git\n"
     ]
    }
   ],
   "source": [
    "cd git"
   ]
  },
  {
   "cell_type": "code",
   "execution_count": 15,
   "metadata": {},
   "outputs": [
    {
     "name": "stdout",
     "output_type": "stream",
     "text": [
      "\u001b[0m\u001b[01;34m.\u001b[0m/  \u001b[01;34m..\u001b[0m/  \u001b[01;34mds_py_galileo_2020\u001b[0m/\n"
     ]
    }
   ],
   "source": [
    "ls -a"
   ]
  },
  {
   "cell_type": "code",
   "execution_count": 2,
   "metadata": {},
   "outputs": [
    {
     "name": "stdout",
     "output_type": "stream",
     "text": [
      "Initialized empty Git repository in /home/jilmer/CienciaDatosGalileo/TrimestreI-2020/CienciaDatosPython/.git/\n"
     ]
    }
   ],
   "source": [
    "!git init"
   ]
  },
  {
   "cell_type": "markdown",
   "metadata": {},
   "source": [
    "Los comandos de git me generan un error al ejecutarlos desde acá, así que corri el comando desde la terminal sin problema. Utilizando una instancia de la terminal desde acá (jupyter lab) no tengo problema. \n",
    "\n",
    "File \"<ipython-input-17-f188d5ac1197>\", line 1\n",
    "    git init    \n",
    "        ^    \n",
    "SyntaxError: invalid syntax"
   ]
  },
  {
   "cell_type": "markdown",
   "metadata": {},
   "source": [
    "Para evitar el problema descrito anteriormente, hay que anteponer el signo de admiración, por ser un comando de shell y no de python. Referencia en [ésta página](https://github.com/jupyter/notebook/issues/3395)."
   ]
  },
  {
   "cell_type": "code",
   "execution_count": 1,
   "metadata": {},
   "outputs": [
    {
     "name": "stdout",
     "output_type": "stream",
     "text": [
      "On branch master\n",
      "\n",
      "No commits yet\n",
      "\n",
      "Changes to be committed:\n",
      "  (use \"git rm --cached <file>...\" to unstage)\n",
      "\n",
      "\t\u001b[32mnew file:   miprimerarchivogit.txt\u001b[m\n",
      "\n",
      "Untracked files:\n",
      "  (use \"git add <file>...\" to include in what will be committed)\n",
      "\n",
      "\t\u001b[31m.ipynb_checkpoints/\u001b[m\n",
      "\t\u001b[31mClase1.pptx\u001b[m\n",
      "\t\u001b[31mClase2_Tools.pdf\u001b[m\n",
      "\t\u001b[31mClase_3.ipynb\u001b[m\n",
      "\t\u001b[31mVersionControl.ipynb\u001b[m\n",
      "\t\u001b[31mgit/\u001b[m\n",
      "\n"
     ]
    }
   ],
   "source": [
    "!git status"
   ]
  },
  {
   "cell_type": "markdown",
   "metadata": {},
   "source": [
    "Funciona!\n",
    "\n",
    "Veamos los archivos creados por el comando git init"
   ]
  },
  {
   "cell_type": "code",
   "execution_count": 5,
   "metadata": {},
   "outputs": [
    {
     "name": "stdout",
     "output_type": "stream",
     "text": [
      "\u001b[0m\u001b[01;34mbranches\u001b[0m/  config  description  HEAD  \u001b[01;34mhooks\u001b[0m/  \u001b[01;34minfo\u001b[0m/  \u001b[01;34mobjects\u001b[0m/  \u001b[01;34mrefs\u001b[0m/\n"
     ]
    }
   ],
   "source": [
    "ls .git"
   ]
  },
  {
   "cell_type": "markdown",
   "metadata": {},
   "source": [
    "Creando primer archivo dentro del directorio local de git, utilizando python"
   ]
  },
  {
   "cell_type": "code",
   "execution_count": 10,
   "metadata": {},
   "outputs": [],
   "source": [
    "f = open('miprimerarchivogit.txt','w')\n",
    "f.write ('Mi primer archivo git desde python!')\n",
    "f.close()"
   ]
  },
  {
   "cell_type": "code",
   "execution_count": 11,
   "metadata": {},
   "outputs": [
    {
     "name": "stdout",
     "output_type": "stream",
     "text": [
      "Clase1.pptx       Clase_3.ipynb  miprimerarchivogit.txt\n",
      "Clase2_Tools.pdf  \u001b[0m\u001b[01;34mgit\u001b[0m/           VersionControl.ipynb\n"
     ]
    }
   ],
   "source": [
    "ls"
   ]
  },
  {
   "cell_type": "markdown",
   "metadata": {},
   "source": [
    "Agregando archivo al índice o stage para el próximo commit"
   ]
  },
  {
   "cell_type": "code",
   "execution_count": 2,
   "metadata": {},
   "outputs": [
    {
     "name": "stdout",
     "output_type": "stream",
     "text": [
      "On branch master\n",
      "\n",
      "No commits yet\n",
      "\n",
      "Changes to be committed:\n",
      "  (use \"git rm --cached <file>...\" to unstage)\n",
      "\n",
      "\t\u001b[32mnew file:   miprimerarchivogit.txt\u001b[m\n",
      "\n",
      "Untracked files:\n",
      "  (use \"git add <file>...\" to include in what will be committed)\n",
      "\n",
      "\t\u001b[31m.ipynb_checkpoints/\u001b[m\n",
      "\t\u001b[31mClase1.pptx\u001b[m\n",
      "\t\u001b[31mClase2_Tools.pdf\u001b[m\n",
      "\t\u001b[31mClase_3.ipynb\u001b[m\n",
      "\t\u001b[31mVersionControl.ipynb\u001b[m\n",
      "\t\u001b[31mgit/\u001b[m\n",
      "\n",
      "On branch master\n",
      "\n",
      "No commits yet\n",
      "\n",
      "Changes to be committed:\n",
      "  (use \"git rm --cached <file>...\" to unstage)\n",
      "\n",
      "\t\u001b[32mnew file:   miprimerarchivogit.txt\u001b[m\n",
      "\n",
      "Untracked files:\n",
      "  (use \"git add <file>...\" to include in what will be committed)\n",
      "\n",
      "\t\u001b[31m.ipynb_checkpoints/\u001b[m\n",
      "\t\u001b[31mClase1.pptx\u001b[m\n",
      "\t\u001b[31mClase2_Tools.pdf\u001b[m\n",
      "\t\u001b[31mClase_3.ipynb\u001b[m\n",
      "\t\u001b[31mVersionControl.ipynb\u001b[m\n",
      "\t\u001b[31mgit/\u001b[m\n",
      "\n"
     ]
    }
   ],
   "source": [
    "!git status\n",
    "!git add miprimerarchivogit.txt\n",
    "!git status"
   ]
  },
  {
   "cell_type": "markdown",
   "metadata": {},
   "source": [
    "Realizamos el primer snapshot con el primer commit, esto realizará una copia al repositorio de Git y a partir de este punto se lleva el control de versiones para este archivo, siempre y cuando los cambios sean compleados con su respectivo commit.\n",
    "\n",
    "Se agrega el parametro \"m\" para agregar el comentario respectivo al commit."
   ]
  },
  {
   "cell_type": "code",
   "execution_count": 3,
   "metadata": {},
   "outputs": [
    {
     "name": "stdout",
     "output_type": "stream",
     "text": [
      "[master (root-commit) c16a41d] Commit inicial, se agrega el archivo miprimerarchivogit.txt\n",
      " 1 file changed, 1 insertion(+)\n",
      " create mode 100644 miprimerarchivogit.txt\n"
     ]
    }
   ],
   "source": [
    "!git commit -m \"Commit inicial, se agrega el archivo miprimerarchivogit.txt\""
   ]
  },
  {
   "cell_type": "code",
   "execution_count": null,
   "metadata": {},
   "outputs": [],
   "source": [
    "El log luego del commit"
   ]
  },
  {
   "cell_type": "code",
   "execution_count": 4,
   "metadata": {},
   "outputs": [
    {
     "name": "stdout",
     "output_type": "stream",
     "text": [
      "\u001b[33mcommit c16a41daed64e28952add247ed0ea9799e8051a7\u001b[m\u001b[33m (\u001b[m\u001b[1;36mHEAD -> \u001b[m\u001b[1;32mmaster\u001b[m\u001b[33m)\u001b[m\n",
      "Author: Jilmer Peren <gperen@gmail.com>\n",
      "Date:   Fri Feb 21 20:23:31 2020 -0600\n",
      "\n",
      "    Commit inicial, se agrega el archivo miprimerarchivogit.txt\n"
     ]
    }
   ],
   "source": [
    "!git log"
   ]
  },
  {
   "cell_type": "markdown",
   "metadata": {},
   "source": [
    "## Conclusiones\n",
    "\n",
    "Luego de lo que aquí se presenta, la lectura continúa con otros comandos, como checkout, diff. Estos comandos no se han incluído en este ensayo todavía, hay que ahondar en ellos para una mejor comprensión.\n",
    "\n",
    "Esta lectura tiene el gran aporte de explicar primero la estructura de git, me identifico totalmente con la pregunta que hace el presentador al principio, sobre el uso de los comandos de manera repetitiva o replicativa sin entender realmente su fundamento y uso, ese ha sido el aprendizaje."
   ]
  }
 ],
 "metadata": {
  "kernelspec": {
   "display_name": "Python 3",
   "language": "python",
   "name": "python3"
  },
  "language_info": {
   "codemirror_mode": {
    "name": "ipython",
    "version": 3
   },
   "file_extension": ".py",
   "mimetype": "text/x-python",
   "name": "python",
   "nbconvert_exporter": "python",
   "pygments_lexer": "ipython3",
   "version": "3.8.1"
  }
 },
 "nbformat": 4,
 "nbformat_minor": 4
}
